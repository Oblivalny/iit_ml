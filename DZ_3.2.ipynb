{
 "cells": [
  {
   "cell_type": "markdown",
   "metadata": {},
   "source": [
    "<center>\n",
    "<img src=\"../../img/ods_stickers.jpg\">\n",
    "## Открытый курс по машинному обучению. Сессия № 3\n",
    "</center>\n",
    "Авторы материала: аспирант Мехмата МГУ Евгений Колмаков, программист-исследователь Mail.ru Group Юрий Кашницкий. Материал распространяется на условиях лицензии [Creative Commons CC BY-NC-SA 4.0](https://creativecommons.org/licenses/by-nc-sa/4.0/). Можно использовать в любых целях (редактировать, поправлять и брать за основу), кроме коммерческих, но с обязательным упоминанием автора материала."
   ]
  },
  {
   "cell_type": "markdown",
   "metadata": {},
   "source": [
    "# <center>Домашнее задание № 3. Опциональная часть \n",
    "## <center> Реализация алгоритма построения дерева решений"
   ]
  },
  {
   "cell_type": "code",
   "execution_count": 41,
   "metadata": {},
   "outputs": [],
   "source": [
    "import numpy as np\n",
    "import copy\n",
    "from scipy import stats\n",
    "from matplotlib import pyplot as plt\n",
    "%matplotlib inline\n",
    "from sklearn.base import BaseEstimator\n",
    "from sklearn.datasets import make_classification, make_regression, load_digits, load_boston\n",
    "from sklearn.model_selection import train_test_split, GridSearchCV\n",
    "from sklearn.metrics import accuracy_score, mean_squared_error"
   ]
  },
  {
   "cell_type": "markdown",
   "metadata": {},
   "source": [
    "Зафиксируем заранее `random_state` (a.k.a. random seed). Это должно повысить вероятность полной воспроизводимости результатов, впрочем, замечено, что тем не менее небольшие флуктуации возможны (например, качества прогнозов дерева, которое мы сейчас вырастим) в случае разных ОС."
   ]
  },
  {
   "cell_type": "code",
   "execution_count": 42,
   "metadata": {},
   "outputs": [],
   "source": [
    "RANDOM_STATE = 17"
   ]
  },
  {
   "cell_type": "markdown",
   "metadata": {},
   "source": [
    "**Необходимо реализовать класс `DecisionTree`**\n",
    "\n",
    "**Спецификация:**\n",
    "- класс наследуется от `sklearn.BaseEstimator`;\n",
    "- конструктор содержит следующие параметры: \n",
    "    `max_depth` - максимальная глубина дерева (по умолчанию - `numpy.inf`); \n",
    "    `min_samples_split` - минимальное число объектов в вершине, при котором происходит её разбиение (по умолчанию - 2); \n",
    "    `criterion` - критерий разбиения (для классификации - 'gini' или 'entropy', для регрессии - 'variance' или 'mad_median'; \n",
    "    по умолчанию - 'gini');\n",
    "    \n",
    "    Функционал, значение которого максимизируется для поиска оптимального разбиения в данной вершине имеет вид\n",
    "    $$Q(X, j, t) = F(X) - \\dfrac{|X_l|}{|X|} F(X_l) - \\dfrac{|X_r|}{|X|} F(X_r),$$\n",
    "    где $X$ - выборка, находящаяся в текущей вершине, $X_l$ и $X_r$ - разбиение выборки $X$ на две части \n",
    "    по предикату $[x_j < t]$, а $F(X)$ -критерий разбиения.\n",
    "    \n",
    "    Для классификации: пусть $p_i$ - доля объектов $i$-го класса в выборке $X$.\n",
    "    \n",
    "    'gini': Неопределенность Джини $F(X) = 1 -\\sum_{i = 1}^K p_i^2$.\n",
    "    \n",
    "    'entropy': Энтропия $F(X) = -\\sum_{i = 1}^K p_i \\log_2(p_i)$.\n",
    "    \n",
    "    Для регрессии: $y_j = y(x_j)$ - ответ на объекте $x_j$, $y = (y_1, \\dots, y_{|X|})$ - вектор ответов.\n",
    "    \n",
    "    'variance': Дисперсия (среднее квадратичное отклонение от среднего) $F(X) = \\dfrac{1}{|X|} \\sum_{x_j \\in X}(y_j - \\dfrac{1}{|X|}\\sum_{x_i \\in X}y_i)^2$\n",
    "    \n",
    "    'mad_median': Среднее отклонение от медианы $F(X) = \\dfrac{1}{|X|} \\sum_{x_j \\in X}|y_j - \\mathrm{med}(y)|$\n",
    "    \n",
    "- класс имеет методы `fit`, `predict` и `predict_proba`;\n",
    "- метод `fit` принимает матрицу объектов `X` и вектор ответов `y` (объекты `numpy.ndarray`) и возвращает экземпляр класса\n",
    "    `DecisionTree`, представляющий собой решающее дерево, обученное по выборке `(X, y)` с учётом заданных в конструкторе параметров; \n",
    "- метод `predict_proba` принимает матрицу объектов `X` и возвращает матрицу `P` размера `X.shape[0] x K`, где `K` - число классов, такую что $p_{ij}$ есть вероятность принадлежности объекта, заданного $i$-ой строкой матрицы X к классу $j \\in \\{1, \\dots, K\\}$.\n",
    "- метод `predict` принимает матрицу объектов и возвращает вектор предсказанных ответов; в случае классификации - это \n",
    "    наиболее многочисленный класс в листе, в который попал объект, а в случае регрессии - среднее значение ответов по \n",
    "    всем объектам этого листа;"
   ]
  },
  {
   "cell_type": "code",
   "execution_count": 170,
   "metadata": {},
   "outputs": [],
   "source": [
    "def entropy(y):  \n",
    "    s = 0\n",
    "    for i in np.unique(y):\n",
    "        p = np.sum((i == y))/y.shape[0]\n",
    "        s+=p*np.log2(p)\n",
    "    \n",
    "    return s*(-1)\n",
    "\n",
    "def gini(y):\n",
    "    sum_p = 0\n",
    "    for i in np.unique(y):\n",
    "        p = np.sum((i == y))/y.shape[0]\n",
    "        sum_p+=p*p\n",
    "    return 1-sum_p\n",
    "\n",
    "def variance(y):\n",
    "    \n",
    "    mean = np.mean(y)\n",
    "    sum_mean = 0\n",
    "    for i in y:\n",
    "        sum_mean+=np.square(i-mean)\n",
    "    \n",
    "    return sum_mean/y.shape[0]\n",
    "\n",
    "def mad_median(y):\n",
    "    median = np.median(y)\n",
    "    sum_median = 0\n",
    "    for i in y:\n",
    "        sum_median+=np.abs(i-median)\n",
    "    \n",
    "    return sum_median/y.shape[0]"
   ]
  },
  {
   "cell_type": "markdown",
   "metadata": {},
   "source": [
    "## Тестирование реализованного алгоритма"
   ]
  },
  {
   "cell_type": "code",
   "execution_count": 203,
   "metadata": {},
   "outputs": [],
   "source": [
    "class Tree:\n",
    "    def __init__(self):\n",
    "        self.left = None\n",
    "        self.right = None\n",
    "        self.splitting_feature = None\n",
    "        self.splitting_values = None\n",
    "        self.information = None\n",
    "        self.values_pred = None\n",
    "        self.depth = None   "
   ]
  },
  {
   "cell_type": "markdown",
   "metadata": {},
   "source": [
    "### Классификация"
   ]
  },
  {
   "cell_type": "code",
   "execution_count": 213,
   "metadata": {},
   "outputs": [],
   "source": [
    "class DecisionTree(BaseEstimator):\n",
    "    \n",
    "    def __init__(self, max_depth=np.inf, min_samples_split=2, \n",
    "                 criterion='gini', debug=False):\n",
    "        \n",
    "        self.max_depth = max_depth\n",
    "        self.__max_depth_cnt__ = 0\n",
    "        self.min_samples_split = min_samples_split\n",
    "        self.debug = debug   \n",
    "        self.criterion = criterion \n",
    "        self.__tree__ = Tree()\n",
    "        self.__targe_unique__ = None\n",
    "        \n",
    "    # Подсчет информативнисти\n",
    "    def __calculation_information__(self, y):\n",
    "        if self.criterion == 'gini':\n",
    "            return gini(y)\n",
    "        elif self.criterion == 'entropy':\n",
    "            return entropy(y)\n",
    "        \n",
    "    #Раздаление numpy матрицы \n",
    "    def __split__(self, arr, cond):\n",
    "        return (arr[cond], arr[~cond])\n",
    "\n",
    "        \n",
    "    # Прирорст информации   \n",
    "    def __information_gain__(self,information, left, right):\n",
    "        base = left.shape[0] + right.shape[0]\n",
    "        return information-(\n",
    "            (left.shape[0]/base*self.__calculation_information__(left))+(right.shape[0]/base*self.__calculation_information__(right)))\n",
    "    \n",
    "    def __tree_creation__(self, tree, X, y, depth_cnt):\n",
    "        \n",
    "        # Сохраняем значения у \n",
    "        tree.values_pred = copy.deepcopy(y)\n",
    "        \n",
    "        # Информативность текущего узла \n",
    "        tree.information = self.__calculation_information__(y)\n",
    "        \n",
    "        \n",
    "        # Проверка глубины\n",
    "        if self.max_depth == depth_cnt:\n",
    "            return \n",
    "        \n",
    "        # Увеличиваем глубину\n",
    "        depth_cnt+=1\n",
    "        tree.depth = copy.deepcopy(depth_cnt)\n",
    "        \n",
    "        # Проверка значения хаоса\n",
    "        if tree.information == 0:\n",
    "            return \n",
    "        \n",
    "        # Проверка глубины\n",
    "        if self.min_samples_split >= X.shape[0]:\n",
    "            return \n",
    "        \n",
    "        # Добавление столбца таргет к признакам\n",
    "        x = np.column_stack((X, y.reshape((-1, 1))[:, 0]))\n",
    "        \n",
    "        # Поиск условия с максимальным приростом информации\n",
    "        best_gain = 0\n",
    "        best_feature = 0 \n",
    "        best_val = None\n",
    "\n",
    "        for feature in range(x.shape[1]-1):\n",
    "            for val in np.unique(x[:,feature]):\n",
    "                (left, right) = self.__split__(x,x[:,feature]<val)\n",
    "\n",
    "                # Условие для исключения пустых потомков\n",
    "                if left[:,-1].shape[0]!=0 and left[:,-1].shape[0]!=0:\n",
    "                    next_gain = self.__information_gain__(tree.information, left[:,-1], right[:,-1])\n",
    "                    if best_gain < next_gain:\n",
    "                        best_gain = copy.deepcopy(next_gain)\n",
    "                        best_feature = copy.deepcopy(feature)\n",
    "                        best_val = copy.deepcopy(val)\n",
    "\n",
    "        if best_val is None:\n",
    "            best_val = x[:,best_feature].max()\n",
    "            \n",
    "        # Сохраняем условия разделения выборки \n",
    "        tree.splitting_feature = copy.deepcopy(best_feature)\n",
    "        tree.splitting_values = copy.deepcopy(best_val)\n",
    "        \n",
    "        (left, right) = self.__split__(x,x[:,best_feature]<best_val)\n",
    "        \n",
    "              \n",
    "        # Разбиваем левого потомка \n",
    "        tree.left = Tree()\n",
    "        self.__tree_creation__(tree=tree.left, X=left[:,:-1], y=left[:,-1], depth_cnt=tree.depth)\n",
    "        \n",
    "        # Разбиваем правого потомка \n",
    "        tree.right = Tree()\n",
    "        self.__tree_creation__(tree=tree.right, X=right[:,:-1], y=right[:,-1], depth_cnt=tree.depth)\n",
    "        \n",
    "        \n",
    "    def fit(self, X, y): \n",
    "        self.__targe_unique__ = np.unique(y)\n",
    "        self.__tree_creation__(tree=self.__tree__, X=X, y=y, depth_cnt=self.__max_depth_cnt__)    \n",
    "    \n",
    "    def __predict_tree__(self, tree, x):\n",
    "        \n",
    "        # Проверка на попадание в лист дерева\n",
    "        if tree.right is None and tree.left is None:            \n",
    "            return tree.values_pred\n",
    "        \n",
    "        # Проверка условий для левого потомка дерева\n",
    "        if x[tree.splitting_feature]<tree.splitting_values:\n",
    "            if tree.left is None:\n",
    "                return tree.values_pred\n",
    "            return self.__predict_tree__(tree.left, x)\n",
    "        \n",
    "        # Проверка условий для правого потомка дерева \n",
    "        else:\n",
    "            if tree.right is None:\n",
    "                return tree.values_pred\n",
    "            return self.__predict_tree__(tree.right, x)\n",
    "        \n",
    "    \n",
    "    def predict(self, X):\n",
    "        pred = []\n",
    "        for i in X:\n",
    "            y = self.__predict_tree__(self.__tree__, i)\n",
    "            pred.append(stats.mode(y).mode[0])\n",
    "        return np.array(pred)\n",
    "        \n",
    "        \n",
    "    def predict_proba(self, X):\n",
    "        pred_prod = np.array([self.__targe_unique__])\n",
    "        \n",
    "        for i in X:\n",
    "            y = self.__predict_tree__(self.__tree__, i)\n",
    "            pred = np.array([])\n",
    "            for class_select in self.__targe_unique__:\n",
    "                class_cnt = np.sum((class_select == y))\n",
    "                pred = np.append(pred, round(class_cnt/y.shape[0], 4))\n",
    "       \n",
    "            pred_prod = np.vstack([pred_prod, pred])\n",
    "            \n",
    "        return np.array(pred_prod[1:])\n",
    "    \n",
    "    def score(self, X, y):\n",
    "        return accuracy_score(y, self.predict(X))\n",
    "    \n",
    "#         pred = self.predict(X)\n",
    "#         return sum((pred == y))/y.shape[0]\n"
   ]
  },
  {
   "cell_type": "markdown",
   "metadata": {},
   "source": [
    "С помощью метода `load_digits` загрузите датасет `digits`. Разделите выборку на обучающую и тестовую с помощью метода `train_test_split`, используйте значения параметров `test_size=0.2`, `random_state=17`. Попробуйте обучить неглубокие решающие деревья и убедитесь, что критерии gini и entropy дают разные результаты."
   ]
  },
  {
   "cell_type": "code",
   "execution_count": 214,
   "metadata": {},
   "outputs": [
    {
     "name": "stdout",
     "output_type": "stream",
     "text": [
      "(1797, 64)\n"
     ]
    }
   ],
   "source": [
    "# Ваш код здесь\n",
    "from sklearn.model_selection import cross_val_score, GridSearchCV\n",
    "from sklearn.model_selection import train_test_split\n",
    "from sklearn.metrics import classification_report\n",
    "from sklearn.datasets import load_digits\n",
    "digits = load_digits()\n",
    "print(digits.data.shape)"
   ]
  },
  {
   "cell_type": "code",
   "execution_count": 215,
   "metadata": {},
   "outputs": [],
   "source": [
    "X_train, X_test, y_train, y_test = train_test_split(digits.data, digits.target, test_size=0.2, random_state=17)"
   ]
  },
  {
   "cell_type": "code",
   "execution_count": 16,
   "metadata": {},
   "outputs": [
    {
     "name": "stdout",
     "output_type": "stream",
     "text": [
      "Wall time: 10.4 s\n"
     ]
    }
   ],
   "source": [
    "%%time\n",
    "\n",
    "model = DecisionTree(max_depth=100)\n",
    "model.fit(X_train, y_train)"
   ]
  },
  {
   "cell_type": "code",
   "execution_count": 17,
   "metadata": {},
   "outputs": [
    {
     "name": "stdout",
     "output_type": "stream",
     "text": [
      "              precision    recall  f1-score   support\n",
      "\n",
      "           0       0.94      0.94      0.94        34\n",
      "           1       0.79      0.76      0.78        34\n",
      "           2       0.82      0.82      0.82        34\n",
      "           3       0.82      0.71      0.76        38\n",
      "           4       0.89      0.82      0.86        40\n",
      "           5       0.80      0.95      0.87        41\n",
      "           6       0.88      0.88      0.88        32\n",
      "           7       0.80      0.90      0.85        31\n",
      "           8       0.76      0.69      0.72        36\n",
      "           9       0.78      0.78      0.78        40\n",
      "\n",
      "    accuracy                           0.82       360\n",
      "   macro avg       0.83      0.83      0.82       360\n",
      "weighted avg       0.83      0.82      0.82       360\n",
      "\n"
     ]
    }
   ],
   "source": [
    "print(classification_report(y_test, model.predict(X_test)))"
   ]
  },
  {
   "cell_type": "markdown",
   "metadata": {},
   "source": [
    "С помощью 5-кратной кросс-валидации (`GridSearchCV`) подберите оптимальное значение параметров `max_depth` и `criterion`. Для параметра `max_depth` используйте диапазон значений - range(3, 11), а для criterion - {'gini', 'entropy'}. Критерий качества `scoring`='accuracy'."
   ]
  },
  {
   "cell_type": "code",
   "execution_count": 216,
   "metadata": {},
   "outputs": [
    {
     "name": "stdout",
     "output_type": "stream",
     "text": [
      "Fitting 5 folds for each of 16 candidates, totalling 80 fits\n"
     ]
    },
    {
     "name": "stderr",
     "output_type": "stream",
     "text": [
      "[Parallel(n_jobs=-1)]: Using backend LokyBackend with 8 concurrent workers.\n",
      "[Parallel(n_jobs=-1)]: Done  34 tasks      | elapsed:   40.1s\n",
      "[Parallel(n_jobs=-1)]: Done  80 out of  80 | elapsed:  1.4min finished\n"
     ]
    },
    {
     "data": {
      "text/plain": [
       "({'criterion': 'entropy', 'max_depth': 8}, 0.865701219512195)"
      ]
     },
     "execution_count": 216,
     "metadata": {},
     "output_type": "execute_result"
    }
   ],
   "source": [
    "# Ваш код здесь\n",
    "kfold = 5\n",
    "\n",
    "tree_params = {'max_depth': range(3,11),\n",
    "              'criterion':['entropy', 'gini']}\n",
    "\n",
    "model = DecisionTree()\n",
    "tree_grid = GridSearchCV(model, tree_params, cv=kfold, n_jobs=-1, verbose=True)\n",
    "tree_grid.fit(X_train, y_train)\n",
    "\n",
    "tree_grid.best_params_,tree_grid.best_score_"
   ]
  },
  {
   "cell_type": "code",
   "execution_count": 217,
   "metadata": {},
   "outputs": [
    {
     "name": "stdout",
     "output_type": "stream",
     "text": [
      "              precision    recall  f1-score   support\n",
      "\n",
      "           0       0.97      0.94      0.96        34\n",
      "           1       0.87      0.79      0.83        34\n",
      "           2       0.86      0.88      0.87        34\n",
      "           3       0.86      0.82      0.84        38\n",
      "           4       0.82      0.93      0.87        40\n",
      "           5       0.95      0.90      0.92        41\n",
      "           6       0.93      0.84      0.89        32\n",
      "           7       0.86      0.97      0.91        31\n",
      "           8       0.86      0.89      0.88        36\n",
      "           9       0.90      0.90      0.90        40\n",
      "\n",
      "    accuracy                           0.89       360\n",
      "   macro avg       0.89      0.89      0.89       360\n",
      "weighted avg       0.89      0.89      0.89       360\n",
      "\n"
     ]
    }
   ],
   "source": [
    "print(classification_report(y_test, tree_grid.predict(X_test)))"
   ]
  },
  {
   "cell_type": "markdown",
   "metadata": {},
   "source": [
    "Постройте графики средних значений критерия качества `accuracy` для критериев `gini` и `entropy` в зависимости от `max_depth`."
   ]
  },
  {
   "cell_type": "code",
   "execution_count": 221,
   "metadata": {},
   "outputs": [],
   "source": [
    "import pandas as pd "
   ]
  },
  {
   "cell_type": "code",
   "execution_count": 222,
   "metadata": {},
   "outputs": [],
   "source": [
    "# Ваш код здесь\n",
    "df_plot = pd.DataFrame(tree_grid.cv_results_['params'])\n",
    "df_plot['accuracy'] = tree_grid.cv_results_['mean_test_score']"
   ]
  },
  {
   "cell_type": "code",
   "execution_count": 223,
   "metadata": {},
   "outputs": [
    {
     "data": {
      "image/png": "[encoded data removed]",
      "text/plain": [
       "<Figure size 432x288 with 1 Axes>"
      ]
     },
     "metadata": {
      "needs_background": "light"
     },
     "output_type": "display_data"
    }
   ],
   "source": [
    "import matplotlib\n",
    "import matplotlib.pyplot as plt\n",
    "import numpy as np\n",
    "\n",
    "\n",
    "labels = df_plot.max_depth.sort_values().unique()\n",
    "entropy = df_plot[df_plot.criterion=='entropy'].sort_values('max_depth').accuracy\n",
    "gini = df_plot[df_plot.criterion=='gini'].sort_values('max_depth').accuracy\n",
    "\n",
    "x = np.arange(len(labels))  # the label locations\n",
    "width = 0.35  # the width of the bars\n",
    "\n",
    "fig, ax = plt.subplots()\n",
    "rects1 = ax.bar(x - width/2, entropy, width, label='entropy')\n",
    "rects2 = ax.bar(x + width/2, gini, width, label='gini')\n",
    "\n",
    "# Add some text for labels, title and custom x-axis tick labels, etc.\n",
    "ax.set_ylabel('accuracy')\n",
    "ax.set_title('Accuracy score')\n",
    "ax.set_xticks(x)\n",
    "ax.set_xticklabels(labels)\n",
    "ax.legend()\n",
    "\n",
    "fig.tight_layout()\n",
    "\n",
    "plt.show()"
   ]
  },
  {
   "cell_type": "markdown",
   "metadata": {},
   "source": [
    "**Выберите верные утверждения:**\n",
    "1. Оптимальное значение `max_depth` для каждого критерия достигается на отрезке [4, 9].\n",
    "2. На отрезке [3, 10] построенные графики не пересекаются.\n",
    "3. На отрезке [3, 10] построенные графики пересекаются ровно один раз.\n",
    "4. Наилучшее качество при `max_depth` на интервале [3, 10] достигается при использовании критерия `gini`.\n",
    "5. Хотя бы для одного из критериев значение accuracy строго возрастает с ростом значения `max_depth` на интервале [3, 10]. (max_depth = 10 у ниже чем у max_depth = 9)"
   ]
  },
  {
   "cell_type": "code",
   "execution_count": null,
   "metadata": {},
   "outputs": [],
   "source": [
    "# Ответ:\n",
    "#     1. Оптимальное значение max_depth для каждого критерия достигается на отрезке [4, 9] (tree_grid.best_params_ =  'max_depth': 8)\n",
    "#     2. На отрезке [3, 10] построенные графики не пересекаются."
   ]
  },
  {
   "cell_type": "markdown",
   "metadata": {},
   "source": [
    "**Чему равны найденные оптимальные значения параметров max_depth и criterion?**\n",
    "1. max_depth = 7, criterion = 'gini';\n",
    "2. max_depth = 7, criterion = 'entropy';\n",
    "3. max_depth = 10, criterion = 'entropy';\n",
    "4. max_depth = 10, criterion = 'gini';\n",
    "5. max_depth = 9, criterion = 'entropy';\n",
    "6. max_depth = 9, criterion = 'gini';"
   ]
  },
  {
   "cell_type": "code",
   "execution_count": null,
   "metadata": {},
   "outputs": [],
   "source": [
    "# Ответ:\n",
    "#     ни один из перечисленных \n",
    "#     max_depth = 8, criterion = 'entropy';"
   ]
  },
  {
   "cell_type": "markdown",
   "metadata": {},
   "source": [
    "Используя найденные оптимальные значения max_depth и criterion, обучите решающее дерево на X_train, y_train и вычислите вероятности принадлежности к классам для X_test."
   ]
  },
  {
   "cell_type": "code",
   "execution_count": 225,
   "metadata": {},
   "outputs": [],
   "source": [
    "def entropy(y):  \n",
    "    s = 0\n",
    "    for i in np.unique(y):\n",
    "        p = np.sum((i == y))/y.shape[0]\n",
    "        s+=p*np.log2(p)\n",
    "    \n",
    "    return s*(-1)\n",
    "\n",
    "\n",
    "model = DecisionTree(max_depth=8, criterion='entropy')\n",
    "model.fit(X_train, y_train)"
   ]
  },
  {
   "cell_type": "markdown",
   "metadata": {},
   "source": [
    "Для полученной матрицы вычислите усредненные по всем объектам из `X_test` значения вероятностей принадлежности к классам."
   ]
  },
  {
   "cell_type": "code",
   "execution_count": 226,
   "metadata": {},
   "outputs": [
    {
     "data": {
      "text/plain": [
       "0.10000033333333334"
      ]
     },
     "execution_count": 226,
     "metadata": {},
     "output_type": "execute_result"
    }
   ],
   "source": [
    "np.mean(model.predict_proba(X_test))"
   ]
  },
  {
   "cell_type": "markdown",
   "metadata": {},
   "source": [
    "**Вопрос:** Чему примерно равна максимальная вероятность в полученном векторе?\n",
    "1. 0.127\n",
    "2. 0.118\n",
    "3. 1.0\n",
    "4. 0.09"
   ]
  },
  {
   "cell_type": "code",
   "execution_count": 229,
   "metadata": {},
   "outputs": [],
   "source": [
    "# Ответ:\n",
    "#     ~0.09"
   ]
  },
  {
   "cell_type": "markdown",
   "metadata": {},
   "source": [
    "### Регрессия"
   ]
  },
  {
   "cell_type": "code",
   "execution_count": 199,
   "metadata": {},
   "outputs": [],
   "source": [
    "class DecisionTreeReg(BaseEstimator):\n",
    "    \n",
    "    def __init__(self, max_depth=np.inf, min_samples_split=2, \n",
    "                 criterion='variance', debug=False):\n",
    "        \n",
    "        self.max_depth = max_depth\n",
    "        self.__max_depth_cnt__ = 0\n",
    "        self.min_samples_split = min_samples_split\n",
    "        self.debug = debug   \n",
    "        self.criterion = criterion \n",
    "        self.__tree__ = Tree()\n",
    "        \n",
    "    # Подсчет информативнисти\n",
    "    def __calculation_information__(self, y):\n",
    "        if self.criterion == 'variance':\n",
    "            return variance(y)\n",
    "        elif self.criterion == 'mad_median':\n",
    "            return mad_median(y)\n",
    "        \n",
    "    #Раздаление numpy матрицы \n",
    "    def __split__(self, arr, cond):\n",
    "        return (arr[cond], arr[~cond])\n",
    "\n",
    "        \n",
    "    # Прирорст информации   \n",
    "    def __information_gain__(self, information, left, right):\n",
    "        base = left.shape[0] + right.shape[0]\n",
    "        return information-(\n",
    "            ((left.shape[0]/base)*self.__calculation_information__(left))+((right.shape[0]/base)*self.__calculation_information__(right)))\n",
    "    \n",
    "    def __tree_creation__(self, tree, X, y, depth_cnt):\n",
    "        \n",
    "        # Сохраняем значения у \n",
    "        tree.values_pred = copy.deepcopy(y)\n",
    "        \n",
    "        # Информативность текущего узла \n",
    "        tree.information = self.__calculation_information__(y)\n",
    "        \n",
    "        # Проверка глубины\n",
    "        if self.max_depth == depth_cnt:\n",
    "            return \n",
    "        \n",
    "        # Увеличиваем глубину\n",
    "        depth_cnt+=1\n",
    "        tree.depth = copy.deepcopy(depth_cnt)\n",
    "        \n",
    "        # Проверка значения хаоса\n",
    "        if tree.information == 0:\n",
    "            return \n",
    "        \n",
    "        # Проверка глубины\n",
    "        if self.min_samples_split >= X.shape[0]:\n",
    "            return \n",
    "        \n",
    "        # Добавление столбца таргет к признакам\n",
    "        x = np.column_stack((X, y.reshape((-1, 1))[:, 0]))\n",
    "        \n",
    "        # Поиск условия с максимальным приростом информации\n",
    "        best_gain = 0\n",
    "        best_feature = 0 \n",
    "        best_val = None\n",
    "        \n",
    "        for feature in range(x.shape[1]-1):\n",
    "            for val in np.unique(x[:,feature]):\n",
    "                (left, right) = self.__split__(x,x[:,feature]<val)\n",
    "                \n",
    "                # Условие для исключения пустых потомков\n",
    "                if left[:,-1].shape[0]!=0 and left[:,-1].shape[0]!=0:\n",
    "                    next_gain = self.__information_gain__(tree.information, left[:,-1], right[:,-1])\n",
    "                    if best_gain < next_gain:\n",
    "                        best_gain = copy.deepcopy(next_gain)\n",
    "                        best_feature = copy.deepcopy(feature)\n",
    "                        best_val = copy.deepcopy(val)\n",
    "\n",
    "        if best_val is None:\n",
    "            best_val = x[:,best_feature].max()\n",
    "            \n",
    "        # Сохраняем условия разделения выборки \n",
    "        tree.splitting_feature = copy.deepcopy(best_feature)\n",
    "        tree.splitting_values = copy.deepcopy(best_val)\n",
    "        \n",
    "        (left, right) = self.__split__(x,x[:,best_feature]<best_val)\n",
    "        \n",
    "        # Разбиваем левого потомка \n",
    "        tree.left = Tree()\n",
    "        self.__tree_creation__(tree=tree.left, X=left[:,:-1], y=left[:,-1], depth_cnt=tree.depth)\n",
    "        \n",
    "        # Разбиваем правого потомка \n",
    "        tree.right = Tree()\n",
    "        self.__tree_creation__(tree=tree.right, X=right[:,:-1], y=right[:,-1], depth_cnt=tree.depth)\n",
    "        \n",
    "        \n",
    "    def fit(self, X, y): \n",
    "        self.__tree_creation__(tree=self.__tree__, X=X, y=y, depth_cnt=self.__max_depth_cnt__)    \n",
    "    \n",
    "    \n",
    "    def __predict_tree__(self, tree, x):\n",
    "\n",
    "        # Проверка на попадание в лист дерева\n",
    "        if tree.right is None and tree.left is None:\n",
    "            return tree.values_pred\n",
    "        \n",
    "        # Проверка условий для левого потомка дерева\n",
    "        if x[tree.splitting_feature]<tree.splitting_values:\n",
    "            if tree.left is None:\n",
    "                return tree.values_pred\n",
    "            return self.__predict_tree__(tree.left, x)\n",
    "        \n",
    "        # Проверка условий для правого потомка дерева \n",
    "        else:\n",
    "            if tree.right is None:\n",
    "                return tree.values_pred\n",
    "            return self.__predict_tree__(tree.right, x)\n",
    "        \n",
    "\n",
    "    \n",
    "    def predict(self, X):\n",
    "        pred = []\n",
    "        for i in X:\n",
    "            y = self.__predict_tree__(self.__tree__, i)\n",
    "            pred.append(np.mean(y))\n",
    "        return np.array(pred)\n",
    "        \n",
    "    \n",
    "    def score(self, X, y):\n",
    "        return mean_squared_error(y, self.predict(X))\n",
    "    \n"
   ]
  },
  {
   "cell_type": "markdown",
   "metadata": {},
   "source": [
    "С помощью метода `load_boston` загрузите датасет `boston`. Разделите выборку на обучающую и тестовую с помощью метода `train_test_split`, используйте значения параметров `test_size=0.2`, `random_state=17`. Попробуйте обучить неглубокие регрессионные деревья и убедитесь, что критерии `variance` и `mad_median` дают разные результаты."
   ]
  },
  {
   "cell_type": "code",
   "execution_count": 196,
   "metadata": {},
   "outputs": [],
   "source": [
    "# Ваш код здесь\n",
    "boston  = load_boston()\n",
    "X_train, X_test, y_train, y_test = train_test_split(boston.data, boston.target, test_size=0.2, random_state=17)"
   ]
  },
  {
   "cell_type": "code",
   "execution_count": 206,
   "metadata": {},
   "outputs": [
    {
     "data": {
      "text/plain": [
       "11.382647058823528"
      ]
     },
     "execution_count": 206,
     "metadata": {},
     "output_type": "execute_result"
    }
   ],
   "source": [
    "model = DecisionTreeReg(criterion='variance')\n",
    "model.fit(X_train, y_train)\n",
    "model.score(X_test, y_test)"
   ]
  },
  {
   "cell_type": "code",
   "execution_count": 205,
   "metadata": {},
   "outputs": [
    {
     "data": {
      "text/plain": [
       "15.262622549019609"
      ]
     },
     "execution_count": 205,
     "metadata": {},
     "output_type": "execute_result"
    }
   ],
   "source": [
    "model = DecisionTreeReg(criterion='mad_median')\n",
    "model.fit(X_train, y_train)\n",
    "model.score(X_test, y_test)"
   ]
  },
  {
   "cell_type": "markdown",
   "metadata": {},
   "source": [
    "С помощью 5-кратной кросс-валидации подберите оптимальное значение параметров `max_depth` и `criterion`. Для параметра `max_depth` используйте диапазон значений - `range(2, 9)`, а для `criterion` - {'variance', 'mad_median'}. Критерий качества `scoring`='neg_mean_squared_error'."
   ]
  },
  {
   "cell_type": "code",
   "execution_count": 207,
   "metadata": {},
   "outputs": [
    {
     "name": "stdout",
     "output_type": "stream",
     "text": [
      "Fitting 5 folds for each of 14 candidates, totalling 70 fits\n"
     ]
    },
    {
     "name": "stderr",
     "output_type": "stream",
     "text": [
      "[Parallel(n_jobs=-1)]: Using backend LokyBackend with 8 concurrent workers.\n",
      "[Parallel(n_jobs=-1)]: Done  34 tasks      | elapsed:   43.0s\n",
      "[Parallel(n_jobs=-1)]: Done  70 out of  70 | elapsed:  1.4min finished\n"
     ]
    },
    {
     "data": {
      "text/plain": [
       "({'criterion': 'mad_median', 'max_depth': 2}, 32.92907196820363)"
      ]
     },
     "execution_count": 207,
     "metadata": {},
     "output_type": "execute_result"
    }
   ],
   "source": [
    "# Ваш код здесь\n",
    "kfold = 5\n",
    "\n",
    "tree_params = {'max_depth': range(2,9),\n",
    "              'criterion':['variance', 'mad_median']}\n",
    "\n",
    "model = DecisionTreeReg()\n",
    "tree_grid = GridSearchCV(model, tree_params, cv=kfold, n_jobs=-1, verbose=True)\n",
    "tree_grid.fit(X_train, y_train)\n",
    "\n",
    "tree_grid.best_params_,tree_grid.best_score_"
   ]
  },
  {
   "cell_type": "markdown",
   "metadata": {},
   "source": [
    "Постройте графики средних значений критерия качества `neg_mean_squared_error` для критериев `variance` и `mad_median` в зависимости от `max_depth`."
   ]
  },
  {
   "cell_type": "code",
   "execution_count": 209,
   "metadata": {},
   "outputs": [],
   "source": [
    "# Ваш код здесь\n",
    "df_plot = pd.DataFrame(tree_grid.cv_results_['params'])\n",
    "df_plot['accuracy'] = tree_grid.cv_results_['mean_test_score']"
   ]
  },
  {
   "cell_type": "code",
   "execution_count": 212,
   "metadata": {},
   "outputs": [
    {
     "data": {
      "image/png": "[encoded data removed]",
      "text/plain": [
       "<Figure size 432x288 with 1 Axes>"
      ]
     },
     "metadata": {
      "needs_background": "light"
     },
     "output_type": "display_data"
    }
   ],
   "source": [
    "import matplotlib\n",
    "import matplotlib.pyplot as plt\n",
    "import numpy as np\n",
    "\n",
    "\n",
    "labels = df_plot.max_depth.sort_values().unique()\n",
    "variance = df_plot[df_plot.criterion=='variance'].sort_values('max_depth').accuracy\n",
    "mad_median = df_plot[df_plot.criterion=='mad_median'].sort_values('max_depth').accuracy\n",
    "\n",
    "x = np.arange(len(labels))  # the label locations\n",
    "width = 0.35  # the width of the bars\n",
    "\n",
    "fig, ax = plt.subplots()\n",
    "rects1 = ax.bar(x - width/2, variance, width, label='variance')\n",
    "rects2 = ax.bar(x + width/2, mad_median, width, label='mad_median')\n",
    "\n",
    "# Add some text for labels, title and custom x-axis tick labels, etc.\n",
    "ax.set_ylabel('Neg_mean_squared_error')\n",
    "ax.set_xlabel('max_depth')\n",
    "ax.set_title('Neg_mean_squared_error score')\n",
    "ax.set_xticks(x)\n",
    "ax.set_xticklabels(labels)\n",
    "ax.legend()\n",
    "\n",
    "fig.tight_layout()\n",
    "\n",
    "plt.show()"
   ]
  },
  {
   "cell_type": "markdown",
   "metadata": {},
   "source": [
    "**Выберите верные утверждения:**\n",
    "1. На отрезке [2, 8] построенные графики не пересекаются.\n",
    "2. На отрезке [2, 8] построенные графики пересекаются ровно один раз.\n",
    "3. Оптимальное значение `max_depth` для каждого из критериев достигается на границе отрезка [2, 8].\n",
    "4. Наилучшее качество при `max_depth` из [2, 8] достигается при использовании критерия `mad_median`."
   ]
  },
  {
   "cell_type": "code",
   "execution_count": null,
   "metadata": {},
   "outputs": [],
   "source": [
    "# Ответ:\n",
    "#     3. Оптимальное значение max_depth для каждого из критериев достигается на границе отрезка [2, 8].\n",
    "#     4. Наилучшее качество при max_depth из [2, 8] достигается при использовании критерия mad_median."
   ]
  },
  {
   "cell_type": "markdown",
   "metadata": {},
   "source": [
    "**Чему равны найденные оптимальные значения параметров `max_depth` и `criterion`?**\n",
    "1. max_depth = 9, criterion = 'variance';\n",
    "2. max_depth = 5, criterion = 'mad_median';\n",
    "3. max_depth = 4, criterion = 'variance';\n",
    "4. max_depth = 2, criterion = 'mad_median';\n",
    "5. max_depth = 4, criterion = 'mad_median';\n",
    "6. max_depth = 5, criterion = 'variance';"
   ]
  }
 ],
 "metadata": {
  "kernelspec": {
   "display_name": "Python 3",
   "language": "python",
   "name": "python3"
  },
  "language_info": {
   "codemirror_mode": {
    "name": "ipython",
    "version": 3
   },
   "file_extension": ".py",
   "mimetype": "text/x-python",
   "name": "python",
   "nbconvert_exporter": "python",
   "pygments_lexer": "ipython3",
   "version": "3.8.3"
  },
  "name": "lesson4_part2_Decision_trees.ipynb"
 },
 "nbformat": 4,
 "nbformat_minor": 4
}
